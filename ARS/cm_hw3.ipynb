{
 "cells": [
  {
   "cell_type": "raw",
   "id": "9a33dc48",
   "metadata": {},
   "source": [
    "---\n",
    "title: \"Адаптивный метод отбора\"\n",
    "author: \"Пономаренко Артем, 422\"\n",
    "output: html_document\n",
    "---"
   ]
  },
  {
   "cell_type": "markdown",
   "id": "32b465d1",
   "metadata": {},
   "source": [
    "### Вариант 14\n",
    "\n",
    "Реализуйте метод адаптивного отбора с использованием производной логарифма плотности для распределения Бирнбаума-Саундерса с плотностью\n",
    "$$\n",
    "p(x)=\\frac{\\sqrt{x}+\\sqrt{\\frac{1}{x}}}{2 \\gamma x} \\varphi\\left(\\frac{\\sqrt{x}-\\frac{1}{x}}{\\gamma}\\right), \\quad x>0, \\gamma>0\n",
    "$$\n",
    "Здесь $\\varphi(x)$ - плотность стандартного нормального распределения.\n",
    "\n",
    "Алгоритм:\n",
    "\n",
    "1. Установить набор фиксированных точек и оценить логарифм плотности $(l=log(p))$, и производных логарифма плотности по фиксированным точкам.\n",
    "\n",
    "2. Используем эти оценки функций для построения кусочно-линейной верхней границы для логарифмической плотности ($l_+$), через поддерживающие касательные линии логарифмической плотности в фиксированных точках.\n",
    "\n",
    "3. Пусть  $g_+ = exp(log(p))$. Из-за кусочно-линейного построения $p_+$, $g_+$ кусочно-экспоненциальная, выборка $Y \\sim g_+$ простая.\n",
    "\n",
    "4. Возьмём $U∼Unif(0,1)$\n",
    "Если $U \\leq exp(l(Y) - l_+(Y))$, принимаем $Y$ в противном случае берём другой образец из $g_+$\n",
    "\n",
    "5. Для любого $Y$ отклоненных по вышеуказанным критериям, $Y$ может быть добавлен к начальному набору фиксированных точек и кусочно-линейной верхней границе $l_+$ адаптивно.\n",
    "\n",
    "Возьмём $\\gamma = 1$:"
   ]
  },
  {
   "cell_type": "code",
   "execution_count": null,
   "id": "0877165c",
   "metadata": {},
   "outputs": [],
   "source": [
    "#install.packages(\"numDeriv\")\n",
    "options(warn = -1)\n",
    "library(numDeriv)\n",
    "library(ggplot2)\n",
    "\n",
    "gamma = 1\n",
    "bounds = c(0.03, 11)\n",
    "\n",
    "n = 10000\n",
    "breaks = 20\n",
    "\n",
    "p <- function(x) \n",
    "{\n",
    "  # (sqrt(x) + sqrt(1/x))/(2 * gamma * x) * dnorm((sqrt(x) - 1/x) / gamma)\n",
    "  # dexp(x)\n",
    "  dnorm(x, mean = 1)\n",
    "}\n",
    "\n",
    "l <- function(x) { \n",
    "  # log(p(x)) \n",
    "  # logb((sqrt(x) + sqrt(1/x))) - logb(2*gamma*x) + dnorm((sqrt(x) - 1/x) / gamma, log = TRUE)\n",
    "  log(p(x))\n",
    "}\n",
    "\n",
    "dl <- function(x) {\n",
    "  grad(l, x)\n",
    "}"
   ]
  },
  {
   "cell_type": "code",
   "execution_count": null,
   "id": "940e3f70",
   "metadata": {},
   "outputs": [],
   "source": [
    "ggplot(data.frame(x=bounds), aes(x)) +\n",
    "  stat_function(fun=p, geom=\"line\")+\n",
    "  ggtitle(\"p(x)\")"
   ]
  },
  {
   "cell_type": "code",
   "execution_count": null,
   "id": "74490ca0",
   "metadata": {},
   "outputs": [],
   "source": [
    "ggplot(data.frame(x=bounds), aes(x))+\n",
    "  stat_function(fun=l, geom=\"line\")+\n",
    "  ggtitle(\"log(p(x))\")\n",
    "  # l(9)"
   ]
  },
  {
   "cell_type": "markdown",
   "id": "0d7f10e7",
   "metadata": {},
   "source": [
    "Определим точки пересечения касательных линий как:\n",
    "\n",
    "$$z_{j} = y_{j} + \\frac{l  (y_{j} )-l(y_{j+1})+(y_{j+1}-y_{j}) l^{\\prime}(y_{j+1})}{l^{\\prime}(y_{j+1})-l^{\\prime}(y_{j})}$$"
   ]
  },
  {
   "cell_type": "code",
   "execution_count": null,
   "id": "df34b68a",
   "metadata": {},
   "outputs": [],
   "source": [
    "ymin = 0\n",
    "ymax = Inf\n",
    "\n",
    "## вычисление точек пересечения опорных касательных линий\n",
    "zfix = function(yfixed)\n",
    "{\n",
    "    yf0 = head(yfixed, n=-1)\n",
    "    yf1 = tail(yfixed, n=-1)\n",
    "    zfixed = yf0 + (l(yf0) - l(yf1) + (yf1 - yf0)*dl(yf1)) / (dl(yf1) - dl(yf0))\n",
    "    return(zfixed)  \n",
    "}"
   ]
  },
  {
   "cell_type": "markdown",
   "id": "74b5d287",
   "metadata": {},
   "source": [
    "Кусочно-линейная функция:\n",
    "$$l_{+}(y)= \\begin{cases}l(y_{1})+(y-y_{1}) l^{\\prime}(y_{1}) & y \\leq z_{1} \\\\ l(y_{j})+(y_{j+1}-y_{j}) l^{\\prime}(y_{j+1}) & z_{j} \\leq y \\leq z_{j+1} \\\\ l(y_{k})+(y-y_{k}) l^{\\prime}(y_{k}) & z_{k} \\leq y\\end{cases}$$"
   ]
  },
  {
   "cell_type": "code",
   "execution_count": null,
   "id": "9d2fbe64",
   "metadata": {},
   "outputs": [],
   "source": [
    "## оценка ненормированной кусочно-линейной верхней границы логарифма плотности\n",
    "l_plus = function(y, yfixed) \n",
    "{\n",
    "    res = rep(0, length(y))\n",
    "    zfixed = zfix(yfixed)\n",
    "\n",
    "    piecewise.idx = findInterval(y, c(ymin, zfixed, ymax))\n",
    "    npieces = length(zfixed) + 1\n",
    "\n",
    "    for(pidx in 1:npieces){\n",
    "        yp = y[piecewise.idx == pidx]\n",
    "        xx = l(yfixed[pidx]) + (yp - yfixed[pidx])*grad(l, yfixed[pidx]) \n",
    "        res[piecewise.idx == pidx] = xx\n",
    "    }\n",
    "    return(res)\n",
    "}"
   ]
  },
  {
   "cell_type": "markdown",
   "id": "4368ad7f",
   "metadata": {},
   "source": [
    "Построим график логарифма плотности:"
   ]
  },
  {
   "cell_type": "code",
   "execution_count": null,
   "id": "ba8ca0b7",
   "metadata": {},
   "outputs": [],
   "source": [
    "yfixed <- seq(bounds[1], bounds[2], length.out=breaks)\n",
    "\n",
    "z_grid <- zfix(yfixed)\n",
    "\n",
    "l_plus_plot <- function(x){l_plus(x, yfixed)}\n",
    "\n",
    "\n",
    "ggplot(data.frame(x=yfixed), aes(x))+\n",
    "  stat_function(fun=l, geom=\"line\", aes(colour='l(x)'))+\n",
    "  stat_function(fun = l_plus_plot, geom = 'line', aes(colour = \"l_+(x)\")) +\n",
    "  geom_point(y = l_plus_plot(yfixed)) +\n",
    "  scale_colour_manual(\"Func\", values=c(\"black\",\"orange\"), breaks=c(\"l(x)\",\"l_+(x)\")) #+ xlim(0, 1) #+ xlim(bounds)"
   ]
  },
  {
   "cell_type": "markdown",
   "id": "c60a292f",
   "metadata": {},
   "source": [
    "Вычислим функцию распределения:\n",
    "$$G_+(t) = \\int_{-\\infty}^t p_+(x) dx = \\int_{-\\infty}^t exp(l_+(x)) dx $$\n",
    "\n",
    "Делаем выборку из плотности $g_+$.\n",
    "* Возьмём $U∼Unif(0,1)$. \n",
    " * Если $U \\leq exp(l(Y) - l_+(Y))$, принимаем $Y$\n",
    " * в противном случае берём другой образец из $g_+$\n",
    "* Для любого $Y$ отклоненных по вышеуказанным критериям, $Y$ может быть добавлен к начальному набору фиксированных точек и кусочно-линейной верхней границе $l_+$."
   ]
  },
  {
   "cell_type": "code",
   "execution_count": null,
   "id": "5c2b41e5",
   "metadata": {},
   "outputs": [],
   "source": [
    "# wei = integrate(function(x) exp(l_plus_plot(x)), lower=0, upper = Inf)$value\n",
    "\n",
    "# dens_plus <- function(x) exp(l_plus_plot(x))/wei\n",
    "\n",
    "# cdf_plus <- function(y) integrate(dens_plus, lower=0, upper = y)$value\n",
    "\n",
    "\n",
    "gplus.cdf = function(vals, yfixed) \n",
    "{\n",
    "    # equivalently:  integrate(function(z) exp(hplus(z, yfixed)), lower=-Inf, upper = vals)\n",
    "\n",
    "    zfixed = zfix(yfixed) # точки пересечения\n",
    "\n",
    "    zlen = length(zfixed) # кол-во узлов\n",
    "    pct = numeric(length(vals))\n",
    "    norm.const = 0\n",
    "    for(zi in 0:zlen) {\n",
    "        if(zi == 0)\n",
    "        {\n",
    "            zm = 0\n",
    "        } else {\n",
    "            zm = zfixed[zi]\n",
    "        }\n",
    "\n",
    "        if(zi == zlen)\n",
    "        {\n",
    "            zp = Inf\n",
    "        } else {\n",
    "            zp = zfixed[zi+1]\n",
    "        }\n",
    "\n",
    "        yp = yfixed[zi+1]\n",
    "        ds = exp(l(yp))/dl(yp) * ( exp((zp - yp)*dl(yp)) - exp((zm - yp)*dl(yp)) )\n",
    "\n",
    "        cidx = zm < vals & vals <= zp\n",
    "        hidx = vals > zp\n",
    "\n",
    "        pct[cidx] = pct[cidx] + exp(l(yp))/dl(yp) * ( exp((vals[cidx] - yp)*dl(yp)) - exp((zm - yp)*dl(yp)) )\n",
    "        pct[hidx] = pct[hidx] + ds\n",
    "\n",
    "        norm.const = norm.const + ds\n",
    "    }\n",
    "\n",
    "    print(pct)\n",
    "    l = list( \n",
    "            pct = pct / norm.const, \n",
    "            norm.const = norm.const\n",
    "        )\n",
    "    return(l)\n",
    "}\n",
    "\n",
    "# cdf_plus(5)\n",
    "# gplus.cdf(5, yfixed)"
   ]
  },
  {
   "cell_type": "code",
   "execution_count": null,
   "id": "6f56eadb",
   "metadata": {},
   "outputs": [],
   "source": [
    "## sample from the gplus density\n",
    "gplus.sample = function(samp.size, yfixed)\n",
    "{\n",
    "    zfixed = zfix(yfixed)\n",
    "    gp = gplus.cdf(zfixed, yfixed)\n",
    "    # gp = cdf_plus(yfixed)\n",
    "    zpct = gp$pct\n",
    "    # print\n",
    "    norm.const = gp$norm.const\n",
    "    ub = c(0, zpct, 1)\n",
    "\n",
    "    unif.samp = runif(samp.size)\n",
    "\n",
    "    print(ub)\n",
    "    fidx = findInterval(unif.samp, ub)\n",
    "    num.intervals = length(ub) - 1\n",
    "    zlow = c(ymin, zfixed)\n",
    "    res = rep(NaN, length(unif.samp))\n",
    "    for(ii in 1:num.intervals)\n",
    "    {\n",
    "        ui = unif.samp[ fidx == ii ]\n",
    "\n",
    "        if(length(ui) == 0)\n",
    "        {\n",
    "            next\n",
    "        }\n",
    "\n",
    "        ## Invert the gplus CDF\n",
    "        yp = yfixed[ii]\n",
    "        zm = zlow[ii]\n",
    "        tmp = (ui - ub[ii]) * dl(yp) * norm.const / exp(l(yp)) + exp( (zm - yp)*dl(yp) )\n",
    "        tmp = yp + log(tmp) / dl(yp)\n",
    "        res[ fidx == ii ] = tmp\n",
    "    }\n",
    "    return(res)\n",
    "}"
   ]
  },
  {
   "cell_type": "code",
   "execution_count": null,
   "id": "96e90096",
   "metadata": {},
   "outputs": [],
   "source": [
    "smpl = gplus.sample(n, yfixed)\n",
    "\n",
    "# set.seed(1234)\n",
    "df <- data.frame(sample=smpl)\n",
    "# head(df)"
   ]
  },
  {
   "cell_type": "code",
   "execution_count": null,
   "id": "9291e7e1",
   "metadata": {},
   "outputs": [],
   "source": [
    "ggplot(df, aes(x=sample)) +\n",
    "geom_histogram(aes(y=..density..), position=\"identity\", alpha=0.5, binwidth = 0.5, fill=\"lightblue\")+\n",
    "geom_density(aes(colour = \"p+(x)\")) +\n",
    "stat_function(fun=p, geom=\"line\", aes(colour = \"p(x)\")) +\n",
    "scale_colour_manual(\"Func\", values=c(\"darkblue\",\"red\"), breaks=c(\"p+(x)\",\"p(x)\")) + #+ #+ xlim(0, 0.3) #+ xlim(bounds) \n",
    "labs(title=\"Sample histogram plot\", x=\"Sample\", y = \"Density\") + xlim(bounds) #+ ylim(0,1)"
   ]
  }
 ],
 "metadata": {
  "jupytext": {
   "cell_metadata_filter": "-all",
   "main_language": "R",
   "notebook_metadata_filter": "-all"
  }
 },
 "nbformat": 4,
 "nbformat_minor": 5
}
