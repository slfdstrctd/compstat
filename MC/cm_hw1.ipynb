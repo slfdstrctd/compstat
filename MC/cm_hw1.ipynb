{
 "cells": [
  {
   "cell_type": "raw",
   "id": "cba4408e",
   "metadata": {},
   "source": [
    "---\n",
    "title: \"Вычисление интегралов методом Монте-Карло\"\n",
    "output: html_document\n",
    "---"
   ]
  },
  {
   "cell_type": "markdown",
   "id": "744d4204",
   "metadata": {},
   "source": [
    "## Вариант 1\n",
    "$$J = \\int_0^1 f(x)dx = \\int_0^1 \\sin\\left(\\frac{1}{\\sqrt{x}} + e^{-x}\\right)dx$$\n",
    "\n",
    "* Убедиться, что интеграл сходится\n",
    "* Реализовать процедуру интегрирования методом Монте-Карло для произвольной интегрирующей плотности. Убедиться в том, что процедура дает правильный результат\n",
    "* Для случая конечных пределов проверить порядок сходимости процедуры Монте-Карло для\n",
    "равномерной интегрирующей плотности\n",
    "* Подобрать несколько интегрирующих плотностей и выбрать из них оптимальную с точки зрения скорости сходимости и дисперсии оценки. Обосновать выбор\n",
    "\n",
    "## Сходимость\n",
    "\n",
    "$$|\\sin(t)| \\leq 1$$\n",
    "Интеграл (абсолютно) сходится, потому что абсолютное значение $\\sin$ ограничено $1$, и мы интегрируем по ограниченному интервалу $[0,1]$.\n",
    "\n",
    "Шаг 1. $$\\xi_1 \\dots \\xi_n \\text{ —  н.о.р. }P_\\xi$$\n",
    "Шаг 2. $$\\eta_i = \\frac{f}{p}(\\xi_i)$$\n",
    "Шаг 3. $$\\hat{J}_n = \\frac{1}{n} (\\eta_1 \\dots \\eta_n) \\to J$$\n",
    "Доверительный интервал:\n",
    "$$J \\in\\left(\\hat{J}_{n}-\\frac{\\sigma}{\\sqrt{n}} x_{\\gamma} ; \\hat{J}_{n}+\\frac{\\sigma}{\\sqrt{n}} x_{\\gamma}\\right)$$\n",
    "\n",
    "$$P(|\\hat{J}_n - J| > \\epsilon) \\leq \\frac{\\sigma^2}{n\\epsilon^2}$$\n",
    "\n",
    "## Для произвольной плотности:\n",
    "### Рассмотрим равномерное распределение:"
   ]
  },
  {
   "cell_type": "code",
   "execution_count": null,
   "id": "c8fc99ab",
   "metadata": {},
   "outputs": [],
   "source": [
    "# install.packages(\"ggplot2\")\n",
    "library(ggplot2)\n",
    "n <- 10000\n",
    "options(warn=-1)\n",
    "\n",
    "\n",
    "f <- function(x) {sin(1/sqrt(x) + exp(-x))}\n",
    "p <- function(x) {dunif(x)}\n",
    "\n",
    "m <- function(x) {f(x)/p(x)}\n",
    "dens <- function(n) {runif(n)}\n",
    "\n",
    "J <- integrate(f, lower = 0, upper = 1)$value\n",
    "\n",
    "simulate_eta <- function(n, den){\n",
    "  xi <- den(n)\n",
    "  e.mean <- cumsum(m(xi))/seq_along(m(xi))\n",
    "  # e.var <- cumsum(m(xi)^2) / (1:n) - e.mean^2\n",
    "  e.var <- (cumsum(m(xi)^2) / (1:n) - e.mean^2) * (n / (n - 1))\n",
    "\n",
    "  return(list(mean = e.mean, var = e.var))\n",
    "}\n",
    "\n",
    "conf_int <- function(mean, sd, gamma = 0.05)\n",
    "{\n",
    "  p <- qnorm(1 - gamma/2)\n",
    "\n",
    "  return(list(left = mean - p*sd/sqrt(1:n), \n",
    "    right = mean + p*sd/sqrt(1:n)))\n",
    "}\n",
    "\n",
    "cheb_int <- function(mean, sd, gamma = 0.05)\n",
    "{\n",
    "\n",
    "  eps <- sd/sqrt(gamma*n)\n",
    "\n",
    "  return(list(left = mean - eps, \n",
    "    right = mean + eps))\n",
    "}\n",
    "\n",
    "monte_carlo <- function(N, den){\n",
    "  eta <- simulate_eta(N, den)\n",
    "  conf <- conf_int(eta$mean, sqrt(eta$var))\n",
    "  cheb <- cheb_int(eta$mean, sqrt(eta$var))\n",
    "\n",
    "  res <- data.frame(Jn = eta$mean, J, conf.left = conf$left, conf.right = conf$right, cheb.left = cheb$left, cheb.right = cheb$right)\n",
    "}\n",
    "\n",
    "conf_plot <- function(dat, v1,v2,v3)\n",
    "{\n",
    "  ggplot(data = dat, aes(y = Jn, x = 1:n, colour = \"red\")) + \n",
    "    geom_line() + \n",
    "    geom_line(aes(y = J), col = \"black\") +\n",
    "    geom_line(aes(y = conf.left, colour = \"blue\")) + geom_line(aes(y = conf.right, colour = \"blue\")) +\n",
    "    geom_line(aes(y = cheb.left, colour = \"green\")) + geom_line(aes(y = cheb.right, colour = \"green\")) +\n",
    "    ylab(\"Integral estimate\") + xlab(\"n\") +\n",
    "    scale_colour_manual(\"Plots\", values = c(\"blue\", \"green\", \"red\"), labels = c(\"CLT\", \"Chebyshev\", \"Monte-Carlo\")) +\n",
    "    xlim(0, n) + ylim(J - 1000/n, J + 1000/n)\n",
    "}\n",
    "\n",
    "\n",
    "mc <- monte_carlo(n, dens)\n",
    "# tmp <- scale_colour_manual(\"Plots\", values = c(\"blue\", \"green\", \"red\"), labels = c(\"CLT\", \"Chebyshev\", \"Monte-Carlo\"))\n",
    "# print(tmp$)\n",
    "# names(tmp$aesthetics) <- c(\"a\", \"b\", \"c\")\n",
    "conf_plot(mc) + ggtitle(\"Uniform\")"
   ]
  },
  {
   "cell_type": "markdown",
   "id": "a34ccce6",
   "metadata": {},
   "source": [
    "### Рассмотрим бета-распределение с параметрами $\\frac{1}{2}, \\frac{1}{2}$:"
   ]
  },
  {
   "cell_type": "code",
   "execution_count": null,
   "id": "24717047",
   "metadata": {},
   "outputs": [],
   "source": [
    "p <- function(x) {dunif(x)}\n",
    "dens <- function(n) {runif(n)}\n",
    "est <- simulate_eta(n, dens) \n",
    "\n",
    "p <- function(x) {dbeta(x, 1/2,1/2)}\n",
    "dens <- function(n) {rbeta(n,1/2,1/2)} \n",
    "est1 <- simulate_eta(n, dens)\n",
    "mc1 <- monte_carlo(n, dens)\n",
    "\n",
    "conf_plot(mc1) + ggtitle(\"beta(0.5, 0.5)\")"
   ]
  },
  {
   "cell_type": "markdown",
   "id": "b69eb4a0",
   "metadata": {},
   "source": [
    "## Найдём наилучшие параметры для бета-распределения перебором:"
   ]
  },
  {
   "cell_type": "code",
   "execution_count": null,
   "id": "9ef64837",
   "metadata": {},
   "outputs": [],
   "source": [
    "i <- 0.01\n",
    "j <- 0.01\n",
    "\n",
    "df <- data.frame (i  = double(), j = double(), var = double(), mean = double())\n",
    "\n",
    "\n",
    "i <- 0.01\n",
    "while (i < 1.5) \n",
    "{\n",
    "  \n",
    "  j <- 0.01\n",
    "  while(j < 1.5) \n",
    "  {\n",
    "    # print(i, j)\n",
    "    p <<- function(x) {dbeta(x, i, j)}\n",
    "    dens <<- function(n) {rbeta(n, i, j)} \n",
    "    estt <- simulate_eta(n, dens)\n",
    "    # print(estt$var[n])\n",
    "    df[nrow(df) + 1,] = c(i, j, estt$var[n], estt$mean[n])\n",
    "    j <<- j + 0.1  # 0.01\n",
    "  }\n",
    "  i <<- i + 0.1  # 0.01\n",
    "  # print(df)\n",
    "}\n",
    "print(head(df[order(df$var),]))\n",
    "\n",
    "# print(head(df[order(abs(df$mean - J)),]))"
   ]
  },
  {
   "cell_type": "markdown",
   "id": "27ecee46",
   "metadata": {},
   "source": [
    "### Возьмём параметры $\\alpha = 1.11, \\beta = 0.81$:"
   ]
  },
  {
   "cell_type": "code",
   "execution_count": null,
   "id": "d7265d7c",
   "metadata": {},
   "outputs": [],
   "source": [
    "alpha = 1.11\n",
    "beta = 0.81\n",
    "beta_opt = sprintf(\"beta(%g,%g)\", alpha, beta)\n",
    "beta_opt"
   ]
  },
  {
   "cell_type": "code",
   "execution_count": null,
   "id": "01dafc81",
   "metadata": {},
   "outputs": [],
   "source": [
    "p <- function(x) {dbeta(x, alpha, beta)} \n",
    "dens <- function(n) {rbeta(n, alpha, beta)} \n",
    "est2 <- simulate_eta(n, dens)\n",
    "mc2 <- monte_carlo(n, dens)\n",
    "\n",
    "conf_plot(mc2) + ggtitle(beta_opt)"
   ]
  },
  {
   "cell_type": "markdown",
   "id": "19b4d348",
   "metadata": {},
   "source": [
    "## Сравним выбранные плотности на графике"
   ]
  },
  {
   "cell_type": "code",
   "execution_count": null,
   "id": "aa98efc9",
   "metadata": {},
   "outputs": [],
   "source": [
    "# library(reshape2)\n",
    "x <- seq(0,1,length=100)\n",
    "db <- dbeta(x, 0.5, 0.5)\n",
    "du <- dunif(x)\n",
    "dbo <- dbeta(x, alpha, beta)\n",
    "f <- function(x) {sin(1/sqrt(x) + exp(-x))}\n",
    "\n",
    "# qplot(x, db, geom=\"line\")\n",
    "ggplot() + geom_line(aes(x,du, color = \"darkblue\")) + \n",
    "  geom_line(aes(x, dbo, color = \"purple\")) +\n",
    "  geom_line(aes(x,db, color = \"red\")) + \n",
    "  # geom_line(aes(x,f, color = \"black\")) + \n",
    "  stat_function(fun=f, aes(color = \"black\"))+\n",
    "\n",
    "  scale_colour_manual(\"Distributions\", values = c(\"black\", \"darkblue\", \"purple\", \"red\"), \n",
    "    labels = c(\"f(x)\", \" Uniform\", beta_opt, \"beta(0.5, 0.5)\")) +\n",
    "  ylab(\"density\") + ggtitle(\"Density plots\")"
   ]
  },
  {
   "cell_type": "markdown",
   "id": "378de03a",
   "metadata": {},
   "source": [
    "## Сравним дисперсии"
   ]
  },
  {
   "cell_type": "code",
   "execution_count": null,
   "id": "009538d7",
   "metadata": {
    "lines_to_next_cell": 0
   },
   "outputs": [],
   "source": [
    "vars <- data.frame(v0 = est$var, v1 = est1$var, v2 = est2$var)\n",
    "\n",
    "ggplot(data = vars, aes(x = 1:n)) + \n",
    "  geom_line(aes(y = v0, colour = \"unif\")) + \n",
    "  geom_line(aes(y = v1, colour = \"beta(0.5,0.5)\") ) +\n",
    "  geom_line(aes(y = v2, colour = beta_opt)) +\n",
    "  scale_color_manual(name = \"Distributions\", values = c(\"red\", \"purple\", \"darkblue\"), labels = c(\"beta(0.5, 0.5)\", beta_opt, \"unif\")) +\n",
    "  xlab(\"n\") + ylab(\"Variance\") + xlim(0,n) + ylim(0.2, 0.5) + ggtitle(\"Variance\")"
   ]
  },
  {
   "cell_type": "markdown",
   "id": "5c8b5940",
   "metadata": {},
   "source": []
  }
 ],
 "metadata": {
  "jupytext": {
   "cell_metadata_filter": "-all",
   "main_language": "R",
   "notebook_metadata_filter": "-all"
  }
 },
 "nbformat": 4,
 "nbformat_minor": 5
}
