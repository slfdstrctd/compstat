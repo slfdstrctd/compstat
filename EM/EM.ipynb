{
 "cells": [
  {
   "cell_type": "raw",
   "id": "58cd5e3a",
   "metadata": {},
   "source": [
    "---\n",
    "title: \"EM алгоритм\"\n",
    "output: html_notebook\n",
    "---"
   ]
  },
  {
   "cell_type": "markdown",
   "id": "806693fd",
   "metadata": {},
   "source": [
    "## Пономаренко Артем, вариант 2\n",
    "### Задание\n",
    "Используя пакет mclust произвести процедуру оценивания, обосновать адекватность полученной\n",
    "модели, визуализировать полученные компоненты.\n",
    "\n",
    "Имеем множество наблюдений $x_1, \\dots x_n$ --- случайные реализации из распределений $E_1, \\dots, E_k$\n",
    "$f_j(x_i, \\theta)$ --- плотность $x_i \\sim E_j$\n",
    "Введем переменную $\\gamma_i = j$, если $x_i \\sim E_j$\n",
    "Цель оптимизации модели: найти $\\theta, \\gamma$: $L(\\theta, \\gamma) = \\prod_{i=1}^n f(\\gamma_i,x_i \\;|\\; \\theta) \\to max$ --- максимизируем функцию правдоподобия"
   ]
  },
  {
   "cell_type": "markdown",
   "id": "435bd25d",
   "metadata": {
    "lines_to_next_cell": 0
   },
   "source": [
    "Построим диаграмму двумерной плотности распределения данных:"
   ]
  },
  {
   "cell_type": "code",
   "execution_count": null,
   "id": "f4bdb24a",
   "metadata": {
    "lines_to_next_cell": 2
   },
   "outputs": [],
   "source": [
    "# install.packages(\"ggplot2\")\n",
    "library('mclust')\n",
    "library(\"ggplot2\")\n",
    "\n",
    "df <- read.csv(\"~/Coding/R_projects/2dn.txt\", sep = ' ')\n",
    "# plot(df)\n",
    "ggplot(df, aes(x = V1, y = V2)) +\n",
    "  geom_point() + stat_density2d_filled(alpha=0.5) + ylim(-4.5,4.5)\n"
   ]
  },
  {
   "cell_type": "markdown",
   "id": "86f32335",
   "metadata": {
    "lines_to_next_cell": 0
   },
   "source": [
    "### Байесовский информационный критерий\n",
    "$$BIC = k\\ln(n) - 2ln(\\hat{L})$$\n",
    "\n",
    "$\\hat{L}$--- максимум функции правдоподобия по $\\hat{\\theta}$\n",
    "<!-- $$\\hat{L} = p(x|\\hat{\\theta}, M)$$  -->\n",
    "\n",
    "<!-- Volume + Shape + Orientation -->\n",
    "<!-- Объем форма ориентация -->\n",
    "\n",
    "Зависимость критерия BIC от числа кластеров"
   ]
  },
  {
   "cell_type": "code",
   "execution_count": null,
   "id": "032b2255",
   "metadata": {
    "lines_to_next_cell": 0
   },
   "outputs": [],
   "source": [
    "BIC <- mclustBIC(df, verbose = FALSE)\n",
    "print(BIC)\n",
    "plot(BIC)"
   ]
  },
  {
   "cell_type": "markdown",
   "id": "43cd71a9",
   "metadata": {},
   "source": [
    "Мы получили разбиение исходных наблюдений на 6 кластеров с\n",
    "оптимальным BIC = -3918.974."
   ]
  },
  {
   "cell_type": "code",
   "execution_count": null,
   "id": "98ba803e",
   "metadata": {
    "lines_to_next_cell": 0
   },
   "outputs": [],
   "source": [
    "mc <- Mclust(df, verbose = FALSE)# modelNames = \"EEE\")\n",
    "summary(mc, parameters = TRUE)\n",
    "plot(mc, what = \"classification\")\n",
    "plot(mc, what = \"uncertainty\")\n"
   ]
  },
  {
   "cell_type": "markdown",
   "id": "48e99299",
   "metadata": {},
   "source": [
    "\n"
   ]
  }
 ],
 "metadata": {
  "jupytext": {
   "cell_metadata_filter": "-all",
   "main_language": "R",
   "notebook_metadata_filter": "-all"
  }
 },
 "nbformat": 4,
 "nbformat_minor": 5
}
